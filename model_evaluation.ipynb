{
 "cells": [
  {
   "cell_type": "code",
   "execution_count": 2,
   "id": "5d2b5b98",
   "metadata": {},
   "outputs": [],
   "source": [
    "from sklearn import metrics"
   ]
  },
  {
   "cell_type": "code",
   "execution_count": 3,
   "id": "5fe1a213",
   "metadata": {},
   "outputs": [],
   "source": [
    "import pandas as pd"
   ]
  },
  {
   "cell_type": "markdown",
   "id": "ce0b8585",
   "metadata": {},
   "source": [
    "2. Given the following confusion matrix, evaluate (by hand) the model's performance.\n",
    "\n",
    "    |               | pred dog   | pred cat   |\n",
    "    |:------------  |-----------:|-----------:|\n",
    "    | actual dog    |         46 |         7  |\n",
    "    | actual cat    |         13 |         34 |\n",
    "\n"
   ]
  },
  {
   "cell_type": "markdown",
   "id": "76c3e1e8",
   "metadata": {},
   "source": [
    "- In the context of this problem, what is a false positive? **Incorrectly predicting dog**\n",
    "- In the context of this problem, what is a false negative? **Incorrectly predicting cat**\n",
    "- How would you describe this model?\n",
    "    - Model Accuracy = 80%\n",
    "    - Recall = 86.8%\n",
    "    - Precision = 78%"
   ]
  },
  {
   "cell_type": "code",
   "execution_count": 4,
   "id": "96de6d55",
   "metadata": {},
   "outputs": [
    {
     "data": {
      "text/plain": [
       "(0.8, 0.8679245283018868, 0.7796610169491526)"
      ]
     },
     "execution_count": 4,
     "metadata": {},
     "output_type": "execute_result"
    }
   ],
   "source": [
    "TP = 46\n",
    "TN = 34\n",
    "FP = 13\n",
    "FN = 7\n",
    "\n",
    "accuracy = (TP + TN) / (TP + TN + FP + FN)\n",
    "recall = TP / (TP + FN)\n",
    "precision = TP / (TP + FP)\n",
    "accuracy, recall, precision"
   ]
  },
  {
   "cell_type": "markdown",
   "id": "abed8441",
   "metadata": {},
   "source": [
    "---\n",
    "3. You are working as a datascientist working for Codeup Cody Creator (C3 for short), a rubber-duck manufacturing plant.\n",
    "\n",
    "    Unfortunately, some of the rubber ducks that are produced will have defects. Your team has built several models that try to predict those defects, and the data from their predictions can be found here.\n",
    "\n",
    "    Use the predictions dataset and pandas to help answer the following questions:\n",
    "\n",
    "    - An internal team wants to investigate the cause of the manufacturing defects. They tell you that they want to identify as many of the ducks that have a defect as possible. Which evaluation metric would be appropriate here? Which model would be the best fit for this use case?\n",
    "    - Recently several stories in the local news have come out highlighting customers who received a rubber duck with a defect, and portraying C3 in a bad light. The PR team has decided to launch a program that gives customers with a defective duck a vacation to Hawaii. They need you to predict which ducks will have defects, but tell you the really don't want to accidentally give out a vacation package when the duck really doesn't have a defect. Which evaluation metric would be appropriate here? Which model would be the best fit for this use case?"
   ]
  },
  {
   "cell_type": "markdown",
   "id": "570a5ccf",
   "metadata": {},
   "source": [
    "See predictions"
   ]
  },
  {
   "cell_type": "code",
   "execution_count": 69,
   "id": "06bdfa46",
   "metadata": {},
   "outputs": [
    {
     "data": {
      "text/html": [
       "<div>\n",
       "<style scoped>\n",
       "    .dataframe tbody tr th:only-of-type {\n",
       "        vertical-align: middle;\n",
       "    }\n",
       "\n",
       "    .dataframe tbody tr th {\n",
       "        vertical-align: top;\n",
       "    }\n",
       "\n",
       "    .dataframe thead th {\n",
       "        text-align: right;\n",
       "    }\n",
       "</style>\n",
       "<table border=\"1\" class=\"dataframe\">\n",
       "  <thead>\n",
       "    <tr style=\"text-align: right;\">\n",
       "      <th></th>\n",
       "      <th>actual</th>\n",
       "      <th>model1</th>\n",
       "      <th>model2</th>\n",
       "      <th>model3</th>\n",
       "    </tr>\n",
       "  </thead>\n",
       "  <tbody>\n",
       "    <tr>\n",
       "      <th>0</th>\n",
       "      <td>No Defect</td>\n",
       "      <td>No Defect</td>\n",
       "      <td>Defect</td>\n",
       "      <td>No Defect</td>\n",
       "    </tr>\n",
       "    <tr>\n",
       "      <th>1</th>\n",
       "      <td>No Defect</td>\n",
       "      <td>No Defect</td>\n",
       "      <td>Defect</td>\n",
       "      <td>Defect</td>\n",
       "    </tr>\n",
       "    <tr>\n",
       "      <th>2</th>\n",
       "      <td>No Defect</td>\n",
       "      <td>No Defect</td>\n",
       "      <td>Defect</td>\n",
       "      <td>No Defect</td>\n",
       "    </tr>\n",
       "  </tbody>\n",
       "</table>\n",
       "</div>"
      ],
      "text/plain": [
       "      actual     model1  model2     model3\n",
       "0  No Defect  No Defect  Defect  No Defect\n",
       "1  No Defect  No Defect  Defect     Defect\n",
       "2  No Defect  No Defect  Defect  No Defect"
      ]
     },
     "execution_count": 69,
     "metadata": {},
     "output_type": "execute_result"
    }
   ],
   "source": [
    "preds = pd.read_csv('data/c3.csv')\n",
    "preds.head(3)"
   ]
  },
  {
   "cell_type": "markdown",
   "id": "716d25fb",
   "metadata": {},
   "source": [
    "Get baseline model"
   ]
  },
  {
   "cell_type": "code",
   "execution_count": 70,
   "id": "10f456ea",
   "metadata": {},
   "outputs": [
    {
     "data": {
      "text/plain": [
       "No Defect    184\n",
       "Defect        16\n",
       "Name: actual, dtype: int64"
      ]
     },
     "metadata": {},
     "output_type": "display_data"
    },
    {
     "data": {
      "text/plain": [
       "'No Defect'"
      ]
     },
     "execution_count": 70,
     "metadata": {},
     "output_type": "execute_result"
    }
   ],
   "source": [
    "display(preds['actual'].value_counts())\n",
    "target_mode = preds['actual'].value_counts().index[0]\n",
    "target_mode"
   ]
  },
  {
   "cell_type": "code",
   "execution_count": 71,
   "id": "dd1d410f",
   "metadata": {},
   "outputs": [],
   "source": [
    "def get_baseline_model(df, target):\n",
    "    '''\n",
    "    Takes in a DataFrame and target column\n",
    "    Makes target mode its prediction\n",
    "    Returns df with baseline model predictions\n",
    "    '''\n",
    "    # find most frequent target class\n",
    "    target_mode = df[target].value_counts().index[0]\n",
    "    # predict target mode everytime\n",
    "    df['model_baseline'] = target_mode\n",
    "    \n",
    "    return df"
   ]
  },
  {
   "cell_type": "markdown",
   "id": "6145b94e",
   "metadata": {},
   "source": [
    "Apply function"
   ]
  },
  {
   "cell_type": "code",
   "execution_count": 72,
   "id": "6cbfa10a",
   "metadata": {},
   "outputs": [
    {
     "name": "stdout",
     "output_type": "stream",
     "text": [
      "['No Defect']\n"
     ]
    },
    {
     "data": {
      "text/html": [
       "<div>\n",
       "<style scoped>\n",
       "    .dataframe tbody tr th:only-of-type {\n",
       "        vertical-align: middle;\n",
       "    }\n",
       "\n",
       "    .dataframe tbody tr th {\n",
       "        vertical-align: top;\n",
       "    }\n",
       "\n",
       "    .dataframe thead th {\n",
       "        text-align: right;\n",
       "    }\n",
       "</style>\n",
       "<table border=\"1\" class=\"dataframe\">\n",
       "  <thead>\n",
       "    <tr style=\"text-align: right;\">\n",
       "      <th></th>\n",
       "      <th>actual</th>\n",
       "      <th>model1</th>\n",
       "      <th>model2</th>\n",
       "      <th>model3</th>\n",
       "      <th>model_baseline</th>\n",
       "    </tr>\n",
       "  </thead>\n",
       "  <tbody>\n",
       "    <tr>\n",
       "      <th>0</th>\n",
       "      <td>No Defect</td>\n",
       "      <td>No Defect</td>\n",
       "      <td>Defect</td>\n",
       "      <td>No Defect</td>\n",
       "      <td>No Defect</td>\n",
       "    </tr>\n",
       "    <tr>\n",
       "      <th>1</th>\n",
       "      <td>No Defect</td>\n",
       "      <td>No Defect</td>\n",
       "      <td>Defect</td>\n",
       "      <td>Defect</td>\n",
       "      <td>No Defect</td>\n",
       "    </tr>\n",
       "    <tr>\n",
       "      <th>2</th>\n",
       "      <td>No Defect</td>\n",
       "      <td>No Defect</td>\n",
       "      <td>Defect</td>\n",
       "      <td>No Defect</td>\n",
       "      <td>No Defect</td>\n",
       "    </tr>\n",
       "  </tbody>\n",
       "</table>\n",
       "</div>"
      ],
      "text/plain": [
       "      actual     model1  model2     model3 model_baseline\n",
       "0  No Defect  No Defect  Defect  No Defect      No Defect\n",
       "1  No Defect  No Defect  Defect     Defect      No Defect\n",
       "2  No Defect  No Defect  Defect  No Defect      No Defect"
      ]
     },
     "execution_count": 72,
     "metadata": {},
     "output_type": "execute_result"
    }
   ],
   "source": [
    "preds = get_baseline_model(preds, target='actual')\n",
    "# verify model_baseline value\n",
    "print(preds['model_baseline'].unique())\n",
    "preds.head(3)"
   ]
  },
  {
   "cell_type": "markdown",
   "id": "ee61d32f",
   "metadata": {},
   "source": [
    "Manually get accuracy score"
   ]
  },
  {
   "cell_type": "code",
   "execution_count": 73,
   "id": "dde4a777",
   "metadata": {},
   "outputs": [
    {
     "data": {
      "text/plain": [
       "array([[  0,  16],\n",
       "       [  0, 184]])"
      ]
     },
     "execution_count": 73,
     "metadata": {},
     "output_type": "execute_result"
    }
   ],
   "source": [
    "conf_matrix = metrics.confusion_matrix(preds['actual'], preds['model_baseline'], labels=['Defect','No Defect'])\n",
    "conf_matrix"
   ]
  },
  {
   "cell_type": "code",
   "execution_count": 74,
   "id": "8f501f0c",
   "metadata": {},
   "outputs": [
    {
     "data": {
      "text/plain": [
       "(0, 184, 0, 16)"
      ]
     },
     "execution_count": 74,
     "metadata": {},
     "output_type": "execute_result"
    }
   ],
   "source": [
    "TP = conf_matrix[0][0]\n",
    "TN = conf_matrix[1][1]\n",
    "FP = conf_matrix[1][0]\n",
    "FN = conf_matrix[0][1]\n",
    "\n",
    "TP, TN, FP, FN"
   ]
  },
  {
   "cell_type": "code",
   "execution_count": 75,
   "id": "73e6ff1e",
   "metadata": {},
   "outputs": [
    {
     "data": {
      "text/plain": [
       "0.92"
      ]
     },
     "execution_count": 75,
     "metadata": {},
     "output_type": "execute_result"
    }
   ],
   "source": [
    "accuracy = (TP + TN) / (TP + TN + FP + FN)\n",
    "accuracy"
   ]
  },
  {
   "cell_type": "code",
   "execution_count": 76,
   "id": "785defdb",
   "metadata": {
    "scrolled": true
   },
   "outputs": [
    {
     "data": {
      "text/plain": [
       "0.92"
      ]
     },
     "execution_count": 76,
     "metadata": {},
     "output_type": "execute_result"
    }
   ],
   "source": [
    "metrics.accuracy_score(preds['actual'], preds['model_baseline'])"
   ]
  },
  {
   "cell_type": "code",
   "execution_count": 77,
   "id": "faa2503b",
   "metadata": {},
   "outputs": [
    {
     "name": "stdout",
     "output_type": "stream",
     "text": [
      "              precision    recall  f1-score   support\n",
      "\n",
      "      Defect       0.00      0.00      0.00        16\n",
      "   No Defect       0.92      1.00      0.96       184\n",
      "\n",
      "    accuracy                           0.92       200\n",
      "   macro avg       0.46      0.50      0.48       200\n",
      "weighted avg       0.85      0.92      0.88       200\n",
      "\n"
     ]
    }
   ],
   "source": [
    "print(metrics.classification_report(preds['actual'], preds['model_baseline'], labels=['Defect', 'No Defect'], \n",
    "                                      zero_division=0))"
   ]
  },
  {
   "cell_type": "markdown",
   "id": "b6648862",
   "metadata": {},
   "source": [
    "An internal team wants to investigate the cause of the manufacturing defects. They tell you that they want to identify as many of the ducks that have a defect as possible.\n",
    "- Which evaluation metric would be appropriate here? \n",
    "    - Because we want to identify as many ducks as we can, we are ok accidentally classifying non-defective ducks as defective (FP). Thus, we will try to maximize recall, which calculates proportion of defective ducks we were able to predict.\n",
    "- Which model would be the best fit for this use case?\n",
    "    - Model 3"
   ]
  },
  {
   "cell_type": "code",
   "execution_count": 88,
   "id": "f74a6e33",
   "metadata": {
    "scrolled": true
   },
   "outputs": [
    {
     "name": "stdout",
     "output_type": "stream",
     "text": [
      "model1 recall score: 0.5\n",
      "              precision    recall  f1-score   support\n",
      "\n",
      "      Defect       0.80      0.50      0.62        16\n",
      "   No Defect       0.96      0.99      0.97       184\n",
      "\n",
      "    accuracy                           0.95       200\n",
      "   macro avg       0.88      0.74      0.79       200\n",
      "weighted avg       0.95      0.95      0.94       200\n",
      "\n",
      "model2 recall score: 0.5625\n",
      "              precision    recall  f1-score   support\n",
      "\n",
      "      Defect       0.10      0.56      0.17        16\n",
      "   No Defect       0.94      0.56      0.70       184\n",
      "\n",
      "    accuracy                           0.56       200\n",
      "   macro avg       0.52      0.56      0.44       200\n",
      "weighted avg       0.87      0.56      0.66       200\n",
      "\n",
      "model3 recall score: 0.8125\n",
      "              precision    recall  f1-score   support\n",
      "\n",
      "      Defect       0.13      0.81      0.23        16\n",
      "   No Defect       0.97      0.53      0.69       184\n",
      "\n",
      "    accuracy                           0.56       200\n",
      "   macro avg       0.55      0.67      0.46       200\n",
      "weighted avg       0.90      0.56      0.65       200\n",
      "\n",
      "model_baseline recall score: 0.0\n",
      "              precision    recall  f1-score   support\n",
      "\n",
      "      Defect       0.00      0.00      0.00        16\n",
      "   No Defect       0.92      1.00      0.96       184\n",
      "\n",
      "    accuracy                           0.92       200\n",
      "   macro avg       0.46      0.50      0.48       200\n",
      "weighted avg       0.85      0.92      0.88       200\n",
      "\n"
     ]
    }
   ],
   "source": [
    "models = ['model1','model2','model3','model_baseline']\n",
    "\n",
    "for model in models:\n",
    "    recall = metrics.recall_score(preds['actual'], preds[model], pos_label='Defect')\n",
    "    print(f'{model} recall score: {recall}')\n",
    "    report = metrics.classification_report(preds['actual'], preds[model], labels=['Defect', 'No Defect'], \n",
    "                                           zero_division=0)\n",
    "    print(f'{report}')  "
   ]
  },
  {
   "cell_type": "markdown",
   "id": "25730e43",
   "metadata": {},
   "source": [
    "- Recently several stories in the local news have come out highlighting customers who received a rubber duck with a defect, and portraying C3 in a bad light. The PR team has decided to launch a program that gives customers with a defective duck a vacation to Hawaii. They need you to predict which ducks will have defects, but tell you they really don't want to accidentally give out a vacation package when the duck really doesn't have a defect.\n",
    "- Which evaluation metric would be appropriate here? \n",
    "    - Classifying a duck as defective when it is not (FP) is costly here. So we want to use precision in order to minimize false positives.\n",
    "- Which model would be the best fit for this use case?\n",
    "    - Model 1"
   ]
  },
  {
   "cell_type": "code",
   "execution_count": 91,
   "id": "f7919c6c",
   "metadata": {
    "scrolled": true
   },
   "outputs": [
    {
     "name": "stdout",
     "output_type": "stream",
     "text": [
      "model1 recall score: 0.8\n",
      "              precision    recall  f1-score   support\n",
      "\n",
      "      Defect       0.80      0.50      0.62        16\n",
      "   No Defect       0.96      0.99      0.97       184\n",
      "\n",
      "    accuracy                           0.95       200\n",
      "   macro avg       0.88      0.74      0.79       200\n",
      "weighted avg       0.95      0.95      0.94       200\n",
      "\n",
      "model2 recall score: 0.1\n",
      "              precision    recall  f1-score   support\n",
      "\n",
      "      Defect       0.10      0.56      0.17        16\n",
      "   No Defect       0.94      0.56      0.70       184\n",
      "\n",
      "    accuracy                           0.56       200\n",
      "   macro avg       0.52      0.56      0.44       200\n",
      "weighted avg       0.87      0.56      0.66       200\n",
      "\n",
      "model3 recall score: 0.13131313131313133\n",
      "              precision    recall  f1-score   support\n",
      "\n",
      "      Defect       0.13      0.81      0.23        16\n",
      "   No Defect       0.97      0.53      0.69       184\n",
      "\n",
      "    accuracy                           0.56       200\n",
      "   macro avg       0.55      0.67      0.46       200\n",
      "weighted avg       0.90      0.56      0.65       200\n",
      "\n",
      "model_baseline recall score: 0.0\n",
      "              precision    recall  f1-score   support\n",
      "\n",
      "      Defect       0.00      0.00      0.00        16\n",
      "   No Defect       0.92      1.00      0.96       184\n",
      "\n",
      "    accuracy                           0.92       200\n",
      "   macro avg       0.46      0.50      0.48       200\n",
      "weighted avg       0.85      0.92      0.88       200\n",
      "\n"
     ]
    }
   ],
   "source": [
    "for model in models:\n",
    "    recall = metrics.precision_score(preds['actual'], preds[model], pos_label='Defect', zero_division=0)\n",
    "    print(f'{model} recall score: {recall}')\n",
    "    report = metrics.classification_report(preds['actual'], preds[model], labels=['Defect', 'No Defect'], \n",
    "                                           zero_division=0)\n",
    "    print(f'{report}')  "
   ]
  },
  {
   "cell_type": "markdown",
   "id": "b4a319e1",
   "metadata": {},
   "source": [
    "---\n",
    "4. You are working as a data scientist for Gives You Paws ™, a subscription based service that shows you cute pictures of dogs or cats (or both for an additional fee).\n",
    "\n",
    "    At Gives You Paws, anyone can upload pictures of their cats or dogs. The photos are then put through a two step process. First an automated algorithm tags pictures as either a cat or a dog (Phase I). Next, the photos that have been initially identified are put through another round of review, possibly with some human oversight, before being presented to the users (Phase II).\n",
    "\n",
    "    Several models have already been developed with the data, and you can find their results in `data/gives_you_paws.csv`."
   ]
  },
  {
   "cell_type": "code",
   "execution_count": 98,
   "id": "46347088",
   "metadata": {},
   "outputs": [
    {
     "data": {
      "text/html": [
       "<div>\n",
       "<style scoped>\n",
       "    .dataframe tbody tr th:only-of-type {\n",
       "        vertical-align: middle;\n",
       "    }\n",
       "\n",
       "    .dataframe tbody tr th {\n",
       "        vertical-align: top;\n",
       "    }\n",
       "\n",
       "    .dataframe thead th {\n",
       "        text-align: right;\n",
       "    }\n",
       "</style>\n",
       "<table border=\"1\" class=\"dataframe\">\n",
       "  <thead>\n",
       "    <tr style=\"text-align: right;\">\n",
       "      <th></th>\n",
       "      <th>actual</th>\n",
       "      <th>model1</th>\n",
       "      <th>model2</th>\n",
       "      <th>model3</th>\n",
       "      <th>model4</th>\n",
       "    </tr>\n",
       "  </thead>\n",
       "  <tbody>\n",
       "    <tr>\n",
       "      <th>0</th>\n",
       "      <td>cat</td>\n",
       "      <td>cat</td>\n",
       "      <td>dog</td>\n",
       "      <td>cat</td>\n",
       "      <td>dog</td>\n",
       "    </tr>\n",
       "    <tr>\n",
       "      <th>1</th>\n",
       "      <td>dog</td>\n",
       "      <td>dog</td>\n",
       "      <td>cat</td>\n",
       "      <td>cat</td>\n",
       "      <td>dog</td>\n",
       "    </tr>\n",
       "    <tr>\n",
       "      <th>2</th>\n",
       "      <td>dog</td>\n",
       "      <td>cat</td>\n",
       "      <td>cat</td>\n",
       "      <td>cat</td>\n",
       "      <td>dog</td>\n",
       "    </tr>\n",
       "  </tbody>\n",
       "</table>\n",
       "</div>"
      ],
      "text/plain": [
       "  actual model1 model2 model3 model4\n",
       "0    cat    cat    dog    cat    dog\n",
       "1    dog    dog    cat    cat    dog\n",
       "2    dog    cat    cat    cat    dog"
      ]
     },
     "execution_count": 98,
     "metadata": {},
     "output_type": "execute_result"
    }
   ],
   "source": [
    "preds = pd.read_csv('data/gives_you_paws.csv')\n",
    "preds.head(3)"
   ]
  },
  {
   "cell_type": "markdown",
   "id": "e805187c",
   "metadata": {},
   "source": [
    "Given this dataset, use pandas to create a baseline model (i.e. a model that just predicts the most common class).\n"
   ]
  },
  {
   "cell_type": "code",
   "execution_count": 99,
   "id": "16d06672",
   "metadata": {},
   "outputs": [
    {
     "data": {
      "text/plain": [
       "dog    0.6508\n",
       "cat    0.3492\n",
       "Name: actual, dtype: float64"
      ]
     },
     "execution_count": 99,
     "metadata": {},
     "output_type": "execute_result"
    }
   ],
   "source": [
    "# check class counts\n",
    "preds['actual'].value_counts(normalize=True)"
   ]
  },
  {
   "cell_type": "code",
   "execution_count": 100,
   "id": "a6d4dc63",
   "metadata": {},
   "outputs": [
    {
     "data": {
      "text/html": [
       "<div>\n",
       "<style scoped>\n",
       "    .dataframe tbody tr th:only-of-type {\n",
       "        vertical-align: middle;\n",
       "    }\n",
       "\n",
       "    .dataframe tbody tr th {\n",
       "        vertical-align: top;\n",
       "    }\n",
       "\n",
       "    .dataframe thead th {\n",
       "        text-align: right;\n",
       "    }\n",
       "</style>\n",
       "<table border=\"1\" class=\"dataframe\">\n",
       "  <thead>\n",
       "    <tr style=\"text-align: right;\">\n",
       "      <th></th>\n",
       "      <th>actual</th>\n",
       "      <th>model1</th>\n",
       "      <th>model2</th>\n",
       "      <th>model3</th>\n",
       "      <th>model4</th>\n",
       "      <th>model_baseline</th>\n",
       "    </tr>\n",
       "  </thead>\n",
       "  <tbody>\n",
       "    <tr>\n",
       "      <th>0</th>\n",
       "      <td>cat</td>\n",
       "      <td>cat</td>\n",
       "      <td>dog</td>\n",
       "      <td>cat</td>\n",
       "      <td>dog</td>\n",
       "      <td>dog</td>\n",
       "    </tr>\n",
       "    <tr>\n",
       "      <th>1</th>\n",
       "      <td>dog</td>\n",
       "      <td>dog</td>\n",
       "      <td>cat</td>\n",
       "      <td>cat</td>\n",
       "      <td>dog</td>\n",
       "      <td>dog</td>\n",
       "    </tr>\n",
       "    <tr>\n",
       "      <th>2</th>\n",
       "      <td>dog</td>\n",
       "      <td>cat</td>\n",
       "      <td>cat</td>\n",
       "      <td>cat</td>\n",
       "      <td>dog</td>\n",
       "      <td>dog</td>\n",
       "    </tr>\n",
       "  </tbody>\n",
       "</table>\n",
       "</div>"
      ],
      "text/plain": [
       "  actual model1 model2 model3 model4 model_baseline\n",
       "0    cat    cat    dog    cat    dog            dog\n",
       "1    dog    dog    cat    cat    dog            dog\n",
       "2    dog    cat    cat    cat    dog            dog"
      ]
     },
     "execution_count": 100,
     "metadata": {},
     "output_type": "execute_result"
    }
   ],
   "source": [
    "preds['model_baseline'] = 'dog'\n",
    "preds.head(3)"
   ]
  },
  {
   "cell_type": "code",
   "execution_count": 101,
   "id": "849edd92",
   "metadata": {},
   "outputs": [
    {
     "data": {
      "text/plain": [
       "dog    3254\n",
       "cat    1746\n",
       "Name: actual, dtype: int64"
      ]
     },
     "metadata": {},
     "output_type": "display_data"
    },
    {
     "data": {
      "text/plain": [
       "'dog'"
      ]
     },
     "execution_count": 101,
     "metadata": {},
     "output_type": "execute_result"
    }
   ],
   "source": [
    "display(preds['actual'].value_counts())\n",
    "target_mode = preds['actual'].value_counts().index[0]\n",
    "target_mode"
   ]
  },
  {
   "cell_type": "markdown",
   "id": "5ab02304",
   "metadata": {},
   "source": [
    "a. \n",
    "\n",
    "In terms of accuracy, how do the various models compare to the baseline model?\n",
    "- models 1 and 4 have better accuracy while models 2 and 3 don't.\n",
    "\n",
    "Are any of the models better than the baseline?\n",
    "- **model1 and model4**"
   ]
  },
  {
   "cell_type": "code",
   "execution_count": 102,
   "id": "0f2011e5",
   "metadata": {},
   "outputs": [
    {
     "data": {
      "text/plain": [
       "Index(['model1', 'model2', 'model3', 'model4', 'model_baseline'], dtype='object')"
      ]
     },
     "execution_count": 102,
     "metadata": {},
     "output_type": "execute_result"
    }
   ],
   "source": [
    "preds.columns[1:]"
   ]
  },
  {
   "cell_type": "code",
   "execution_count": 103,
   "id": "64b83e47",
   "metadata": {},
   "outputs": [
    {
     "name": "stdout",
     "output_type": "stream",
     "text": [
      "model1 accuracy: 0.8074\n",
      "              precision    recall  f1-score   support\n",
      "\n",
      "         dog       0.89      0.80      0.84      3254\n",
      "         cat       0.69      0.82      0.75      1746\n",
      "\n",
      "    accuracy                           0.81      5000\n",
      "   macro avg       0.79      0.81      0.80      5000\n",
      "weighted avg       0.82      0.81      0.81      5000\n",
      "\n",
      "model2 accuracy: 0.6304\n",
      "              precision    recall  f1-score   support\n",
      "\n",
      "         dog       0.89      0.49      0.63      3254\n",
      "         cat       0.48      0.89      0.63      1746\n",
      "\n",
      "    accuracy                           0.63      5000\n",
      "   macro avg       0.69      0.69      0.63      5000\n",
      "weighted avg       0.75      0.63      0.63      5000\n",
      "\n",
      "model3 accuracy: 0.5096\n",
      "              precision    recall  f1-score   support\n",
      "\n",
      "         dog       0.66      0.51      0.57      3254\n",
      "         cat       0.36      0.51      0.42      1746\n",
      "\n",
      "    accuracy                           0.51      5000\n",
      "   macro avg       0.51      0.51      0.50      5000\n",
      "weighted avg       0.55      0.51      0.52      5000\n",
      "\n",
      "model4 accuracy: 0.7426\n",
      "              precision    recall  f1-score   support\n",
      "\n",
      "         dog       0.73      0.96      0.83      3254\n",
      "         cat       0.81      0.35      0.48      1746\n",
      "\n",
      "    accuracy                           0.74      5000\n",
      "   macro avg       0.77      0.65      0.66      5000\n",
      "weighted avg       0.76      0.74      0.71      5000\n",
      "\n",
      "model_baseline accuracy: 0.6508\n",
      "              precision    recall  f1-score   support\n",
      "\n",
      "         dog       0.65      1.00      0.79      3254\n",
      "         cat       0.00      0.00      0.00      1746\n",
      "\n",
      "    accuracy                           0.65      5000\n",
      "   macro avg       0.33      0.50      0.39      5000\n",
      "weighted avg       0.42      0.65      0.51      5000\n",
      "\n"
     ]
    }
   ],
   "source": [
    "for model in preds.columns[1:]:\n",
    "    accuracy = metrics.accuracy_score(preds['actual'], preds[model])\n",
    "    print(f'{model} accuracy: {accuracy}')\n",
    "    report = metrics.classification_report(preds['actual'], preds[model], labels=['dog', 'cat'],\n",
    "                                           zero_division=0)\n",
    "    print(f'{report}')"
   ]
  },
  {
   "cell_type": "markdown",
   "id": "eb2cd7b2",
   "metadata": {},
   "source": [
    "b. \n",
    "\n",
    "Suppose you are working on a team that solely deals with dog pictures.\n",
    "\n",
    "Which of these models would you recommend?\n",
    "\n",
    "- I want to minimize incorrectly labeling a picture as 'dog' (false positive), so I will focus on maximizing precision. \n"
   ]
  },
  {
   "cell_type": "markdown",
   "id": "07a24a19",
   "metadata": {},
   "source": [
    "c.\n",
    "\n",
    "Suppose you are working on a team that solely deals with cat pictures.\n",
    "\n",
    "Which of these models would you recommend?\n",
    "\n",
    "- I want to minimize incorrectly labeling a picture as a cat\n"
   ]
  },
  {
   "cell_type": "markdown",
   "id": "d6396703",
   "metadata": {},
   "source": [
    "---\n",
    "5. Follow the links below to read the documentation about each function, then apply those functions to the data from the previous problem.\n",
    "\n",
    "    `sklearn.metrics.accuracy_score`\n",
    "\n",
    "    `sklearn.metrics.precision_score`\n",
    "\n",
    "    `sklearn.metrics.recall_score`\n",
    "\n",
    "    `sklearn.metrics.classification_report`\n"
   ]
  },
  {
   "cell_type": "code",
   "execution_count": null,
   "id": "fdfb99fd",
   "metadata": {},
   "outputs": [],
   "source": []
  }
 ],
 "metadata": {
  "kernelspec": {
   "display_name": "Python 3 (ipykernel)",
   "language": "python",
   "name": "python3"
  },
  "language_info": {
   "codemirror_mode": {
    "name": "ipython",
    "version": 3
   },
   "file_extension": ".py",
   "mimetype": "text/x-python",
   "name": "python",
   "nbconvert_exporter": "python",
   "pygments_lexer": "ipython3",
   "version": "3.10.9"
  },
  "varInspector": {
   "cols": {
    "lenName": 16,
    "lenType": 16,
    "lenVar": 40
   },
   "kernels_config": {
    "python": {
     "delete_cmd_postfix": "",
     "delete_cmd_prefix": "del ",
     "library": "var_list.py",
     "varRefreshCmd": "print(var_dic_list())"
    },
    "r": {
     "delete_cmd_postfix": ") ",
     "delete_cmd_prefix": "rm(",
     "library": "var_list.r",
     "varRefreshCmd": "cat(var_dic_list()) "
    }
   },
   "types_to_exclude": [
    "module",
    "function",
    "builtin_function_or_method",
    "instance",
    "_Feature"
   ],
   "window_display": false
  }
 },
 "nbformat": 4,
 "nbformat_minor": 5
}
